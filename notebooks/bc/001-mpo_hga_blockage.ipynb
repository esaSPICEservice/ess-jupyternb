{
 "cells": [
  {
   "cell_type": "markdown",
   "id": "a3038e3f-17dc-4e53-855d-b2645f36e1c2",
   "metadata": {},
   "source": [
    "## MPO HGA Blockage\n",
    "\n",
    "This is a Python Jupyter Notebook to illustrate how to visualize the blockage that suffers the High Gain Antenna due to the MPO structure. "
   ]
  },
  {
   "cell_type": "markdown",
   "id": "10830b34-fb4f-4aec-8c03-07e188e19f7b",
   "metadata": {},
   "source": [
    "First thing we will do is indicate that we want the Python package matplotlib to be output in the notebook and to import the SpiceyPy package to use SPICE. We also ensure that project_path module is include, this will allow us get access to common packages and resources"
   ]
  },
  {
   "cell_type": "code",
   "execution_count": null,
   "id": "992b39e6-2cd8-490b-8fca-c695063cd70f",
   "metadata": {},
   "outputs": [],
   "source": [
    "from project_path import data_path\n",
    "import spiceypy as cspice\n",
    "import numpy as np\n",
    "import matplotlib.pyplot as plt\n",
    "import os\n",
    "from tqdm import trange"
   ]
  },
  {
   "cell_type": "markdown",
   "id": "cf28f829-ac58-4936-9141-3dc45ac7d70f",
   "metadata": {},
   "source": [
    "We will setup the kernel set for the spice library, that will be used along the notebook. Note that if you are in **Datalabs** infrastructure and the SPICE volume is mounted, the latest kernel repositories are available. Additionally the *ess.datalabs* package contains many helpers and shortcuts.\n",
    "\n",
    "Using the *data_path* shortcut we can get resources stored in the **ess-jupyternb/data** folder"
   ]
  },
  {
   "cell_type": "code",
   "execution_count": null,
   "id": "87470b23-de5d-4154-99a5-2df6f1d0225c",
   "metadata": {},
   "outputs": [],
   "source": [
    "from ess.datalabs import get_local_metakernel, is_spice_volume_mounted\n",
    "\n",
    "cspice.kclear()\n",
    "if is_spice_volume_mounted():\n",
    "    cspice.furnsh(get_local_metakernel('BEPICOLOMBO', 'bc_plan.tm'))\n",
    "else:\n",
    "   cspice.furnsh('/Users/randres/git/spice/bepicolombo/kernels/mk/bc_plan.tm')\n",
    "\n",
    "cspice.furnsh(\n",
    "    os.path.join(data_path, 'test', 'bc_mpo_hga_schulte_vector_test_v01.bc'))\n",
    "cspice.furnsh(\n",
    "    os.path.join(data_path, 'test', 'bc_mpo_sc_bus_v03.bds'))"
   ]
  },
  {
   "cell_type": "markdown",
   "id": "4ca7b42e",
   "metadata": {},
   "source": [
    "The *bc_mpo_hga_schulte_vector_test_v01.bc* contains a full rotation of the schulte vector. It contains the attitude covering in 3600 seconds the full excursion along 360 degrees. The start point in 2021-01-01T00:00:00Z"
   ]
  },
  {
   "cell_type": "code",
   "execution_count": null,
   "id": "e0c1f5c9",
   "metadata": {},
   "outputs": [],
   "source": [
    "time_step_seconds = 10 # time step\n",
    "et0 = cspice.utc2et('2021-01-01T00:00:00')\n",
    "et = et0\n",
    "rotation_vectors = []\n",
    "for j in range(-180,181):\n",
    "    M = cspice.pxform('MPO_HGA', 'MPO_SPACECRAFT', et)\n",
    "    rotation_vectors.append(cspice.mxv(M, [0, 0, 1])) \n",
    "    et += time_step_seconds\n",
    "rv = np.array(rotation_vectors)\n",
    "fig = plt.figure()\n",
    "ax = fig.add_subplot(projection='3d')\n",
    "ax.scatter(rv[:,0],rv[:,1],rv[:,2]);\n",
    "cspice.et2utc(et, 'ISOC', 0)\n"
   ]
  },
  {
   "cell_type": "markdown",
   "id": "534de77c",
   "metadata": {},
   "source": [
    "Now we calculate the blockage map with the help of this schulte vector. We simulate the exclusion for the dish of the antenna.\n",
    "\n",
    "**Warning** It can take some minutes to get the map"
   ]
  },
  {
   "cell_type": "code",
   "execution_count": null,
   "id": "f0a6d92c-8b41-486d-9c96-e527a760ff61",
   "metadata": {},
   "outputs": [],
   "source": [
    "\n",
    "time_step_seconds = 10 # time step\n",
    "angular_step_degrees = 12 \n",
    "et0 = cspice.utc2et('2021-01-01T00:00:00')\n",
    "el_angles = np.arange(-5.0, 145, 1)\n",
    "az_angles = np.arange(-180, 181, 1)\n",
    "coverage_map = np.zeros((el_angles.shape[0], az_angles.shape[0]))\n",
    "et = et0\n",
    "output = []\n",
    "output_b = []\n",
    "row_counter = el_angles.shape[0]\n",
    "for i in trange(el_angles.shape[0]):\n",
    "    for j in range(az_angles.shape[0]):\n",
    "        el = el_angles[i]\n",
    "        az = az_angles[j]\n",
    "        rs = []\n",
    "        ds = []\n",
    "        for n in range(0, 360, angular_step_degrees):\n",
    "            n = np.deg2rad(n)\n",
    "            r0 = np.array([np.cos(n), np.sin(n), 0]) * 0.0005\n",
    "            r_opt = cspice.spkpos('MPO_HGA_OPT_EL', et, 'MPO_SPACECRAFT', 'NONE', 'MPO_SPACECRAFT')[0]\n",
    "            M = cspice.pxform('MPO_HGA', 'MPO_SPACECRAFT', et)\n",
    "            r = cspice.mxv(M, r0) + r_opt\n",
    "            d = cspice.mxv(M, [0, 0, 1])\n",
    "            rs.append(r)\n",
    "            ds.append(d)\n",
    "            \n",
    "        xarray, flag_array = cspice.dskxv(False, 'MPO_SPACECRAFT', [-121000], et, 'MPO_SPACECRAFT',\n",
    "                         rs, ds)\n",
    "        \n",
    "        coverage_map[i, j] += len(list(filter(lambda x: x, flag_array)))           \n",
    "        et += time_step_seconds\n",
    "\n"
   ]
  },
  {
   "cell_type": "markdown",
   "id": "8310de65",
   "metadata": {},
   "source": [
    "We can now visualize the colored blockage map"
   ]
  },
  {
   "cell_type": "code",
   "execution_count": null,
   "id": "290e9cee-dd7b-4790-b3f1-eca1b7871800",
   "metadata": {},
   "outputs": [],
   "source": [
    "plt.contourf(range(-180, 181), range(-5, 145), coverage_map, 100)\n",
    "plt.ylim([90, 144])\n",
    "plt.colorbar()\n",
    "plt.grid()\n",
    "plt.show()"
   ]
  },
  {
   "cell_type": "code",
   "execution_count": null,
   "id": "a343b644-a74b-4e16-bf1c-bcfa0911c7d5",
   "metadata": {},
   "outputs": [],
   "source": [
    "coverage = coverage_map / (360 / angular_step_degrees) * 100\n",
    "coverage[coverage == 0] = np.nan\n",
    "\n",
    "fig = plt.figure(figsize=(14, 6))\n",
    "plt.contourf(range(-180, 181), range(-5, 145), coverage, 20, alpha=0.1)\n",
    "contour_lines = plt.contour(range(-180, 181), range(-5, 145), coverage, 20)\n",
    "plt.clabel(contour_lines, contour_lines.levels, inline=True, fmt='%1.0f', fontsize=8)\n",
    "plt.colorbar()\n",
    "plt.ylim([90, 144])\n",
    "plt.grid()\n",
    "plt.ylabel('El [deg]')\n",
    "plt.xlabel('Az [deg]')\n",
    "plt.title('HGA disk percentage blockage')\n",
    "plt.show()"
   ]
  }
 ],
 "metadata": {
  "kernelspec": {
   "display_name": "Python 3 (ipykernel)",
   "language": "python",
   "name": "python3"
  },
  "language_info": {
   "codemirror_mode": {
    "name": "ipython",
    "version": 3
   },
   "file_extension": ".py",
   "mimetype": "text/x-python",
   "name": "python",
   "nbconvert_exporter": "python",
   "pygments_lexer": "ipython3",
   "version": "3.9.13"
  }
 },
 "nbformat": 4,
 "nbformat_minor": 5
}
