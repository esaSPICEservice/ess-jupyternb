{
 "cells": [
  {
   "cell_type": "markdown",
   "id": "a3038e3f-17dc-4e53-855d-b2645f36e1c2",
   "metadata": {},
   "source": [
    "## MPO HGA Blockage\n",
    "\n",
    "This is a Python Jupyter Notebook to illustrate how to visualize the blockage that suffers the High Gain Antenna due to the MPO structure. "
   ]
  },
  {
   "cell_type": "markdown",
   "id": "10830b34-fb4f-4aec-8c03-07e188e19f7b",
   "metadata": {},
   "source": [
    "First thing we will do is indicate that we want the Python package matplotlib to be output in the notebook and to import the SpiceyPy package to use SPICE. We also ensure that project_path module is include, this will allow us get access to common packages and resources"
   ]
  },
  {
   "cell_type": "code",
   "execution_count": null,
   "id": "992b39e6-2cd8-490b-8fca-c695063cd70f",
   "metadata": {},
   "outputs": [],
   "source": [
    "from project_path import data_path\n",
    "from ess.utils import mask_blockage\n",
    "import spiceypy as cspice\n",
    "import numpy as np\n",
    "import matplotlib.pyplot as plt\n",
    "import os\n",
    "from tqdm import tqdm"
   ]
  },
  {
   "cell_type": "markdown",
   "id": "cf28f829-ac58-4936-9141-3dc45ac7d70f",
   "metadata": {},
   "source": [
    "We will setup the kernel set for the spice library, that will be used along the notebook. Note that if you are in **Datalabs** infrastructure and the SPICE volume is mounted, the latest kernel repositories are available. Additionally the *ess.datalabs* package contains many helpers and shortcuts.\n",
    "\n",
    "Using the *data_path* shortcut we can get resources stored in the **ess-jupyternb/data** folder"
   ]
  },
  {
   "cell_type": "code",
   "execution_count": null,
   "id": "87470b23-de5d-4154-99a5-2df6f1d0225c",
   "metadata": {},
   "outputs": [],
   "source": [
    "from ess.datalabs import get_local_metakernel, is_spice_volume_mounted\n",
    "\n",
    "cspice.kclear()\n",
    "if is_spice_volume_mounted():\n",
    "    cspice.furnsh(get_local_metakernel('BEPICOLOMBO', 'bc_plan.tm'))\n",
    "else:\n",
    "    cspice.furnsh('/local/path/kernel')\n",
    "\n",
    "cspice.furnsh(\n",
    "    os.path.join(data_path, 'test', 'bc_mpo_hga_schulte_vector_test_v01.bc'))\n",
    "cspice.furnsh(\n",
    "    os.path.join(data_path, 'test', 'bc_mpo_sc_bus_v03.bds'))"
   ]
  },
  {
   "cell_type": "code",
   "execution_count": null,
   "id": "f0a6d92c-8b41-486d-9c96-e527a760ff61",
   "metadata": {},
   "outputs": [],
   "source": [
    "\n",
    "\n",
    "\n",
    "def rtpairs(r, n):\n",
    "    for i in range(len(r)):\n",
    "       for j in range(n[i]):\n",
    "        yield r[i], j*(2 * np.pi / n[i])\n",
    "\n",
    "\n",
    "time_step_seconds = 10 # time step\n",
    "et0 = cspice.utc2et('2021-01-01T00:00:00')\n",
    "etf = cspice.utc2et('2021-01-01T00:01:00')\n",
    "times = np.linspace(et0, etf, int((etf - et0) / time_step_seconds))\n",
    "el_angles = np.arange(-5.0, 145, 1)\n",
    "az_angles = np.arange(-180, 181, 1)\n",
    "coverage_map = np.zeros((el_angles.shape[0], az_angles.shape[0]))\n",
    "et = et0\n",
    "output = []\n",
    "output_b = []\n",
    "T = [1, 5, 10, 15, 20, 30, 40]\n",
    "R = [0.0, 0.1, 0.2, 0.3, 0.4, 0.5]\n",
    "row_counter = el_angles.shape[0]\n",
    "for i in range(el_angles.shape[0]):\n",
    "    for j in range(az_angles.shape[0]):\n",
    "        el = el_angles[i]\n",
    "        az = az_angles[j]\n",
    "        rs = []\n",
    "        ds = []\n",
    "        for r, t in rtpairs(R, T):\n",
    "            r0 = np.array([r * np.cos(t), r * np.sin(t), 0]) / 1000\n",
    "            r_opt = cspice.spkpos('MPO_HGA_OPT_EL', et, 'MPO_SPACECRAFT', 'NONE', 'MPO_SPACECRAFT')[0]\n",
    "            M = cspice.pxform('MPO_HGA', 'MPO_SPACECRAFT', et)\n",
    "            r = cspice.mxv(M, r0) + r_opt\n",
    "            d = cspice.mxv(M, [0, 0, 1])\n",
    "            rs.append(r)\n",
    "            ds.append(d)\n",
    "            \n",
    "        xarray, flag_array = cspice.dskxv(False, 'MPO_SPACECRAFT', [-121000], et, 'MPO_SPACECRAFT',\n",
    "                         rs, ds)\n",
    "        \n",
    "        coverage_map[i, j] += len(list(filter(lambda x: x, flag_array)))           \n",
    "        et += time_step_seconds\n",
    "    print(f'Row {i}/{row_counter}') \n",
    "\n",
    "plt.contourf(range(-180, 181), range(-5, 145), coverage_map, 100)\n",
    "plt.colorbar()\n",
    "plt.grid()\n",
    "plt.show()"
   ]
  },
  {
   "cell_type": "code",
   "execution_count": null,
   "id": "290e9cee-dd7b-4790-b3f1-eca1b7871800",
   "metadata": {},
   "outputs": [],
   "source": []
  },
  {
   "cell_type": "code",
   "execution_count": null,
   "id": "a343b644-a74b-4e16-bf1c-bcfa0911c7d5",
   "metadata": {},
   "outputs": [],
   "source": [
    "coverage = coverage_map / np.sum(T) * 100\n",
    "coverage[coverage == 0] = np.nan\n",
    "\n",
    "fig = plt.figure(figsize=(14, 6))\n",
    "plt.contourf(range(-180, 181), range(-5, 145), coverage, 20, alpha=0.1)\n",
    "contour_lines = plt.contour(range(-180, 181), range(-5, 145), coverage, 20)\n",
    "plt.clabel(contour_lines, contour_lines.levels, inline=True, fmt='%1.0f', fontsize=8)\n",
    "plt.colorbar()\n",
    "plt.ylim([90, 144])\n",
    "plt.grid()\n",
    "plt.ylabel('El [deg]')\n",
    "plt.xlabel('Az [deg]')\n",
    "plt.title('HGA disk percentage blockage')\n",
    "plt.show()"
   ]
  },
  {
   "cell_type": "code",
   "execution_count": null,
   "id": "5d17cf62-2aee-4c30-a305-c3ae5d8385a8",
   "metadata": {},
   "outputs": [],
   "source": [
    "el_angles = np.arange(-5.0, 145, 1)\n",
    "az_angles = np.arange(-180, 181, 1)\n",
    "et = et0\n",
    "output = []\n",
    "output_b = []\n",
    "for el in el_angles:\n",
    "    for az in az_angles:\n",
    "        for n in range(0, 360, 12):\n",
    "            n = np.deg2rad(n)\n",
    "            r0 = np.array([np.cos(n), np.sin(n), 0]) * 0.0005\n",
    "            r_opt = cspice.spkpos('MPO_HGA_OPT_EL', et, 'MPO_SPACECRAFT', 'NONE', 'MPO_SPACECRAFT')[0]\n",
    "            M = cspice.pxform('MPO_HGA', 'MPO_SPACECRAFT', et)\n",
    "            r = cspice.mxv(M, r0) + r_opt\n",
    "            d = cspice.mxv(M, [0, 0, 1])\n",
    "\n",
    "            xarray, flag = cspice.dskxv(False, 'MPO_SPACECRAFT', [-121000], et, 'MPO_SPACECRAFT',\n",
    "                             [r], [d])\n",
    "            if flag == True:\n",
    "                blocked = 1\n",
    "                output_b.append([blocked, el, az, et])\n",
    "            else:\n",
    "                blocked = 0\n",
    "            # try:\n",
    "            #     cspice.sincpt('DSK/UNPRIORITIZED', 'MPO_SPACECRAFT', et, 'MPO_SPACECRAFT',\n",
    "            #                   'NONE', 'MPO_HGA_OPT_EL', 'MPO_HGA', np.array([0, 0, 1]))\n",
    "            #     blocked = 1\n",
    "            #     output_b.append([blocked, el, az, et])\n",
    "            # except:\n",
    "            #     blocked = 0\n",
    "        output.append([blocked, el, az, et])\n",
    "        et += 10\n",
    "print(len(output))\n",
    "output_b = np.asarray(output_b)\n",
    "plt.scatter(output_b[:, 2], output_b[:, 1], color='red')\n",
    "plt.grid()\n",
    "plt.xlim([-180, 180])\n",
    "plt.ylim([-5, 145])\n",
    "plt.show()"
   ]
  },
  {
   "cell_type": "code",
   "execution_count": null,
   "id": "4bfeef52-4d24-42f1-a0ee-39af78186e28",
   "metadata": {},
   "outputs": [],
   "source": [
    "fig = plt.figure(figsize=(14, 6))\n",
    "\n",
    "plt.scatter(output_b[:, 2], output_b[:, 1], color='lavender')\n",
    "plt.xlim([-180, 180])\n",
    "plt.ylim([-5, 145])\n",
    "\n",
    "plt.contourf(range(-180, 181), range(-5, 145), coverage, 20, alpha=0.05)\n",
    "contour_lines = plt.contour(range(-180, 181), range(-5, 145), coverage, 20)\n",
    "plt.clabel(contour_lines, contour_lines.levels, inline=True, fmt='%1.0f', fontsize=12)\n",
    "plt.colorbar()\n",
    "plt.ylim([90, 144])\n",
    "plt.grid()\n",
    "plt.ylabel('El [deg]')\n",
    "plt.xlabel('Az [deg]')\n",
    "plt.title('HGA disk percentage blockage')\n",
    "plt.show()"
   ]
  },
  {
   "cell_type": "code",
   "execution_count": null,
   "id": "11765701-e2ee-40d7-af0c-27c938b1bf3e",
   "metadata": {},
   "outputs": [],
   "source": []
  }
 ],
 "metadata": {
  "kernelspec": {
   "display_name": "Python 3 (ipykernel)",
   "language": "python",
   "name": "python3"
  },
  "language_info": {
   "codemirror_mode": {
    "name": "ipython",
    "version": 3
   },
   "file_extension": ".py",
   "mimetype": "text/x-python",
   "name": "python",
   "nbconvert_exporter": "python",
   "pygments_lexer": "ipython3",
   "version": "3.9.13"
  }
 },
 "nbformat": 4,
 "nbformat_minor": 5
}
