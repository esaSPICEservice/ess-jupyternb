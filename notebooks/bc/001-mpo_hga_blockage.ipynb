{
 "cells": [
  {
   "cell_type": "markdown",
   "id": "a3038e3f-17dc-4e53-855d-b2645f36e1c2",
   "metadata": {},
   "source": [
    "## MPO HGA Blockage\n",
    "\n",
    "This is a Python Jupyter Notebook to illustrate how to visualize the blockage that suffers the High Gain Antenna due to the MPO structure. "
   ]
  },
  {
   "cell_type": "markdown",
   "id": "10830b34-fb4f-4aec-8c03-07e188e19f7b",
   "metadata": {},
   "source": [
    "First thing we will do is indicate that we want the Python package matplotlib to be output in the notebook and to import the SpiceyPy package to use SPICE. We also ensure that project_path module is include, this will allow us get access to common packages and resources"
   ]
  },
  {
   "cell_type": "code",
   "execution_count": null,
   "id": "992b39e6-2cd8-490b-8fca-c695063cd70f",
   "metadata": {},
   "outputs": [],
   "source": [
    "from project_path import data_path\n",
    "import spiceypy as cspice\n",
    "import numpy as np\n",
    "import matplotlib.pyplot as plt\n",
    "import os\n",
    "from tqdm import trange"
   ]
  },
  {
   "cell_type": "markdown",
   "id": "cf28f829-ac58-4936-9141-3dc45ac7d70f",
   "metadata": {},
   "source": [
    "We will setup the kernel set for the spice library, that will be used along the notebook. Note that if you are in **Datalabs** infrastructure and the SPICE volume is mounted, the latest kernel repositories are available. Additionally the *ess.datalabs* package contains many helpers and shortcuts.\n",
    "\n",
    "Using the *data_path* shortcut we can get resources stored in the **ess-jupyternb/data** folder"
   ]
  },
  {
   "cell_type": "code",
   "execution_count": null,
   "id": "87470b23-de5d-4154-99a5-2df6f1d0225c",
   "metadata": {},
   "outputs": [],
   "source": [
    "from ess.datalabs import get_local_metakernel, is_spice_volume_mounted\n",
    "\n",
    "cspice.kclear()\n",
    "if is_spice_volume_mounted():\n",
    "    cspice.furnsh(get_local_metakernel('BEPICOLOMBO', 'bc_plan.tm'))\n",
    "else:\n",
    "   cspice.furnsh('/Users/randres/git/spice/bepicolombo/kernels/mk/bc_plan.tm')\n",
    "\n",
    "cspice.furnsh(\n",
    "    os.path.join(data_path, 'test', 'bc_mpo_hga_schulte_vector_test_v01.bc'))\n",
    "cspice.furnsh(\n",
    "    os.path.join(data_path, 'test', 'bc_mpo_sc_bus_v03.bds'))"
   ]
  },
  {
   "cell_type": "markdown",
   "id": "4ca7b42e",
   "metadata": {},
   "source": [
    "The *bc_mpo_hga_schulte_vector_test_v01.bc* contains a full rotation of the schulte vector. It contains the attitude covering in 3600 seconds the full excursion along 360 degrees. The start point in 2021-01-01T00:00:00Z"
   ]
  },
  {
   "cell_type": "code",
   "execution_count": null,
   "id": "e0c1f5c9",
   "metadata": {},
   "outputs": [],
   "source": [
    "time_step_seconds = 10 # time step\n",
    "et0 = cspice.utc2et('2021-01-01T00:00:00')\n",
    "et = et0\n",
    "rotation_vectors = []\n",
    "for j in range(-180,181):\n",
    "    M = cspice.pxform('MPO_HGA', 'MPO_SPACECRAFT', et)\n",
    "    rotation_vectors.append(cspice.mxv(M, [0, 0, 1])) \n",
    "    et += time_step_seconds\n",
    "rv = np.array(rotation_vectors)\n",
    "fig = plt.figure()\n",
    "ax = fig.add_subplot(projection='3d')\n",
    "ax.scatter(rv[:,0],rv[:,1],rv[:,2]);\n",
    "cspice.et2utc(et, 'ISOC', 0)\n"
   ]
  },
  {
   "cell_type": "markdown",
   "id": "534de77c",
   "metadata": {},
   "source": [
    "Now we calculate the blockage map with the help of this schulte vector. We simulate the exclusion for the dish of the antenna.\n",
    "\n",
    "**Warning** It can take some minutes to get the map"
   ]
  },
  {
   "cell_type": "code",
   "execution_count": null,
   "id": "f0a6d92c-8b41-486d-9c96-e527a760ff61",
   "metadata": {},
   "outputs": [],
   "source": [
    "\n",
    "\n",
    "def discretized_dish(r, t):\n",
    "    for i in range(len(r)):\n",
    "       for j in range(t[i]):\n",
    "        yield r[i], j*(2 * np.pi / t[i])\n",
    "\n",
    "\n",
    "R = [0.0, 0.1, 0.2, 0.3, 0.4, 0.5]\n",
    "T = [1, 5, 10, 15, 20, 30, 40]\n",
    "\n",
    "time_step_seconds = 10 # time step\n",
    "angular_step_degrees = 12 \n",
    "et0 = cspice.utc2et('2021-01-01T00:00:00')\n",
    "el_angles = np.arange(-5.0, 145, 1)\n",
    "az_angles = np.arange(-180, 181, 1)\n",
    "coverage_map = np.zeros((el_angles.shape[0], az_angles.shape[0]))\n",
    "et = et0\n",
    "output = []\n",
    "output_b = []\n",
    "row_counter = el_angles.shape[0]\n",
    "for i in trange(el_angles.shape[0]):\n",
    "    for j in range(az_angles.shape[0]):\n",
    "        el = el_angles[i]\n",
    "        az = az_angles[j]\n",
    "        rs = []\n",
    "        ds = []\n",
    "        for r, t in discretized_dish(R, T):\n",
    "            r0 = np.array([r * np.cos(t), r * np.sin(t), 0]) / 1000\n",
    "            r_opt = cspice.spkpos('MPO_HGA_OPT_EL', et, 'MPO_SPACECRAFT', 'NONE', 'MPO_SPACECRAFT')[0]\n",
    "            M = cspice.pxform('MPO_HGA', 'MPO_SPACECRAFT', et)\n",
    "            r = cspice.mxv(M, r0) + r_opt\n",
    "            d = cspice.mxv(M, [0, 0, 1])\n",
    "            rs.append(r)\n",
    "            ds.append(d)\n",
    "            \n",
    "        xarray, flag_array = cspice.dskxv(False, 'MPO_SPACECRAFT', [-121000], et, 'MPO_SPACECRAFT',\n",
    "                         rs, ds)\n",
    "        \n",
    "        coverage_map[i, j] += len(list(filter(lambda x: x, flag_array)))           \n",
    "        et += time_step_seconds\n",
    "\n"
   ]
  },
  {
   "cell_type": "markdown",
   "id": "d475027e",
   "metadata": {},
   "source": [
    "The **plot_earth** function plots the projection in HGA frame of the earth path during the period passed as argument"
   ]
  },
  {
   "cell_type": "code",
   "execution_count": null,
   "id": "834cf916",
   "metadata": {},
   "outputs": [],
   "source": [
    "def plot_earth(utc0, utcf, color, label):\n",
    "    et0 = cspice.utc2et(utc0)\n",
    "    etf = cspice.utc2et(utcf)\n",
    "    times = np.linspace(et0, etf, 1000)\n",
    "    earth_radec = []\n",
    "    for et in times:\n",
    "        r_earth = cspice.spkpos('EARTH', et, 'MPO_HGA', 'NONE', 'MPO')[0]\n",
    "        radec = np.rad2deg(cspice.recazl(r_earth, True, True))\n",
    "        ra = (radec[1] - 360) if radec[1] > 180 else radec[1]\n",
    "        dec = radec[2] + 90\n",
    "        earth_radec.append([ra, dec])\n",
    "    \n",
    "    earth_radec = np.asarray(earth_radec)\n",
    "    plt.plot(earth_radec[:, 0], earth_radec[:, 1], lw=1, color=color, label=label)\n",
    "    return"
   ]
  },
  {
   "cell_type": "markdown",
   "id": "f95cd0f3",
   "metadata": {},
   "source": [
    "We can plot also other pre-calculated masks:\n",
    "* simplified: a rough estimation of the mask\n",
    "* astrium: industry provide mask"
   ]
  },
  {
   "cell_type": "code",
   "execution_count": null,
   "id": "3b789a94",
   "metadata": {},
   "outputs": [],
   "source": [
    "simplified = {\n",
    "    'name': 'simplified',\n",
    "    'az': [-180, -105,   0,  40,  60, 110, 135, 180],\n",
    "    'el': [ 145,   90, 130, 130, 110, 110, 145, 145]\n",
    "}\n",
    "\n",
    "astrium = {\n",
    "    'name': 'astrium',\n",
    "    'az': [-180, -175, -170, -165, -160, -155, -150, -145, -140, -135, -130, \n",
    "           -125, -120, -115, -110, -105, -100, -95, -90, -85, -80, -75, -70, \n",
    "           -65, -60, -55, -50, -45, -40, -35, -30, -25, -20, -15, -10, -5, 0,\n",
    "            5, 10, 15, 20, 25, 30, 35, 40, 45, 50, 55, 60, 65, 70, 75, 80, 85,\n",
    "            90, 95, 100, 105, 110, 115, 120, 125, 130, 135, 140, 145, 150, 155,\n",
    "            160, 165, 170, 175, 180],\n",
    "    'el': [144, 144, 144, 141.5, 135.5, 129.5, 126, 123, 119.5, 114.5, 110.5, \n",
    "           105, 99.5, 95.5, 93, 92, 91.5, 91.5, 91.5, 92.5, 94, 95.5, 100, 104, \n",
    "           110, 113, 114.5, 116.5, 120, 120.5, 121, 122.5, 126.5, 133, 134.5, \n",
    "           135, 135.5, 133, 130, 128.5, 129.5, 128.5, 128, 128.5, 130.5, 125.5, \n",
    "           120, 116, 113.5, 111.5, 110.5, 110, 110, 110, 109.5, 109, 109, 110, \n",
    "           113.5, 120, 127, 134, 140, 144, 144, 144, 144, 144, 144, 144, 144, \n",
    "           144, 144]\n",
    "}\n",
    "\n",
    "def plot_mask(mask):\n",
    "    plt.plot(mask['az'], mask['el'], label=mask['name'], ls=':')"
   ]
  },
  {
   "cell_type": "markdown",
   "id": "8310de65",
   "metadata": {},
   "source": [
    "We can now visualize the colored blockage map"
   ]
  },
  {
   "cell_type": "code",
   "execution_count": null,
   "id": "290e9cee-dd7b-4790-b3f1-eca1b7871800",
   "metadata": {},
   "outputs": [],
   "source": [
    "plt.contourf(range(-180, 181), range(-5, 145), coverage_map, 100)\n",
    "plt.colorbar()\n",
    "plot_earth('2026-03-23', '2026-03-24', 'gray', '23 Mar 2026')\n",
    "plot_earth('2026-04-06', '2026-04-07', 'orange', '6 Apr 2026')\n",
    "plot_earth('2026-04-20', '2026-04-21', 'blue', '20 Apr 2026')\n",
    "plot_mask(simplified)\n",
    "plt.grid()\n",
    "plt.show()"
   ]
  },
  {
   "cell_type": "code",
   "execution_count": null,
   "id": "a343b644-a74b-4e16-bf1c-bcfa0911c7d5",
   "metadata": {},
   "outputs": [],
   "source": [
    "coverage = coverage_map / np.sum(T) * 100\n",
    "coverage[coverage == 0] = np.nan\n",
    "\n",
    "fig = plt.figure(figsize=(14, 6))\n",
    "plt.contourf(range(-180, 181), range(-5, 145), coverage, 20, alpha=0.1)\n",
    "contour_lines = plt.contour(range(-180, 181), range(-5, 145), coverage, 20)\n",
    "plt.clabel(contour_lines, contour_lines.levels, inline=True, fmt='%1.0f', fontsize=8)\n",
    "plt.colorbar()\n",
    "plt.ylim([0, 145])\n",
    "plt.grid()\n",
    "plt.ylabel('El [deg]')\n",
    "plt.xlabel('Az [deg]')\n",
    "plt.title('HGA disk percentage blockage')\n",
    "\n",
    "plot_earth('2026-03-23', '2026-03-24', 'gray', '23 Mar 2026')\n",
    "plot_earth('2026-04-06', '2026-04-07', 'orange', '6 Apr 2026')\n",
    "plot_earth('2026-04-20', '2026-04-21', 'blue', '20 Apr 2026')\n",
    "\n",
    "plot_mask(simplified)\n",
    "plot_mask(astrium)\n",
    "\n",
    "plt.legend()\n",
    "plt.show()"
   ]
  }
 ],
 "metadata": {
  "kernelspec": {
   "display_name": "Python 3 (ipykernel)",
   "language": "python",
   "name": "python3"
  },
  "language_info": {
   "codemirror_mode": {
    "name": "ipython",
    "version": 3
   },
   "file_extension": ".py",
   "mimetype": "text/x-python",
   "name": "python",
   "nbconvert_exporter": "python",
   "pygments_lexer": "ipython3",
   "version": "3.9.13"
  }
 },
 "nbformat": 4,
 "nbformat_minor": 5
}
