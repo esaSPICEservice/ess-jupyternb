{
 "cells": [
  {
   "cell_type": "markdown",
   "id": "934327a5-ca58-49de-83c1-0ff393fe0cba",
   "metadata": {
    "tags": []
   },
   "source": [
    "## Sun path and MPO exclusion areas\n",
    "\n",
    "This is a Python Jupyter Notebook to illustrate how to visualize the sun path projected from the spacecraft point of view. (projection on the sphere that uses the spacecraft frame as reference and origin)"
   ]
  },
  {
   "cell_type": "markdown",
   "id": "2cd83b8a-a3fc-4fac-a131-fe4514719c7a",
   "metadata": {},
   "source": [
    "First thing we will do is indicate that we want the Python package matplotlib to be output in the notebook and to import the SpiceyPy package to use SPICE. We also ensure that project_path module is include, this will allow us get access to common packages and resources"
   ]
  },
  {
   "cell_type": "code",
   "execution_count": null,
   "id": "fc0c0c67-4ed3-40b2-94ee-9fde56ad5a7d",
   "metadata": {},
   "outputs": [],
   "source": [
    "from project_path import data_path\n",
    "\n",
    "import spiceypy as cspice\n",
    "import matplotlib.pyplot as plt\n",
    "from matplotlib import patches\n",
    "import os\n",
    "import numpy as np\n"
   ]
  },
  {
   "cell_type": "markdown",
   "id": "332cf2d9-1830-47eb-87fa-02739c2f18a1",
   "metadata": {},
   "source": [
    "We will setup the kernel set for the spice library, that will be used along the notebook. Note that if you are in **Datalabs** infrastructure and the SPICE volume is mounted, the latest kernel repositories are available. Additionally the *ess.datalabs* package contains many helpers and shortcuts."
   ]
  },
  {
   "cell_type": "code",
   "execution_count": null,
   "id": "7bbfa2a3-60e7-48a9-b951-fb1c86205890",
   "metadata": {},
   "outputs": [],
   "source": [
    "from ess.datalabs import get_local_metakernel, is_spice_volume_mounted\n",
    "\n",
    "cspice.kclear()\n",
    "if is_spice_volume_mounted():\n",
    "    cspice.furnsh(get_local_metakernel('BEPICOLOMBO', 'bc_plan.tm'))\n",
    "else:\n",
    "    cspice.furnsh('/local/path/kernel')"
   ]
  },
  {
   "cell_type": "markdown",
   "id": "2444b49d-a8c3-48b5-bb7e-b4f58ba17cdb",
   "metadata": {},
   "source": [
    "The **plot_sun** function plots the projection of the sun path during the period passed as argument"
   ]
  },
  {
   "cell_type": "code",
   "execution_count": null,
   "id": "18ab08ae-72b3-4485-a6a7-87a382058eca",
   "metadata": {},
   "outputs": [],
   "source": [
    "def plot_sun(utc0, utcf, color):\n",
    "    et0 = cspice.utc2et(utc0)\n",
    "    etf = cspice.utc2et(utcf)\n",
    "    times = np.linspace(et0, etf, 1000)\n",
    "    sun_radec = []\n",
    "    for et in times:\n",
    "        r_sun = cspice.spkpos('SUN', et, 'MPO_SPACECRAFT', 'NONE', \"MPO\")[0]\n",
    "        radec = np.rad2deg(cspice.reclat(r_sun))\n",
    "        sun_radec.append([radec[1], radec[2]])\n",
    "    sun_radec = np.asarray(sun_radec)\n",
    "    plt.plot(sun_radec[:, 0], sun_radec[:, 1], color=color, label=utc0)\n",
    "    return"
   ]
  },
  {
   "cell_type": "markdown",
   "id": "c701b022-30f0-42b3-b565-c66bb87c80be",
   "metadata": {},
   "source": [
    "The **plot_mpo_exclusion_areas** displays the projection of exclusion areas in the MPO frame. Those are fixed and based on operational constraints:\n",
    "* Red ones represent ...\n",
    "* Blue ones represent ..."
   ]
  },
  {
   "cell_type": "code",
   "execution_count": null,
   "id": "b70b43a3-238c-40fc-8a61-515ffd08fc74",
   "metadata": {},
   "outputs": [],
   "source": [
    "def plot_mpo_exclusion_areas():\n",
    "    fig = plt.figure()\n",
    "    ax = fig.add_subplot(111)\n",
    "    ax.add_patch(patches.Rectangle((-180, -90), 180, 180, color='green'))\n",
    "    ax.add_patch(patches.Rectangle((-180, 50), 360, 40, color='red'))\n",
    "    ax.add_patch(patches.Circle((90, 22.5), 17.5, color='blue'))\n",
    "    ax.add_patch(patches.Circle((-135, -10), 40.0, color='red'))\n",
    "    ax.add_patch(patches.Circle((-45, -10), 40.0, color='red'))\n",
    "    ax.add_patch(patches.Circle((-90, -50), 40.0, color='red'))\n",
    "    ax.set_aspect('equal', 'box')\n",
    "    ax.set_xlabel('Azimuth [deg]')\n",
    "    ax.set_ylabel('Elevation [deg]')\n",
    "    ax.set_title('Sun exclusion')\n",
    "    ax.set(xlim=(-180, 180), ylim=(-90, 90))"
   ]
  },
  {
   "cell_type": "markdown",
   "id": "76381b26-77cf-4dab-98e9-a0570ef3b9dc",
   "metadata": {},
   "source": [
    "A combination of both can be used to check if the sun path invades an exclusion area in certain period"
   ]
  },
  {
   "cell_type": "code",
   "execution_count": null,
   "id": "44f3a750-2366-4794-bbca-b15ad6e44034",
   "metadata": {},
   "outputs": [],
   "source": [
    "plot_mpo_exclusion_areas()\n",
    "\n",
    "plot_sun('2026-May-18 12:00:00', '2026-May-18 14:30:00', 'orange')\n",
    "plot_sun('2026-May-28 12:00:00', '2026-May-28 14:30:00', 'yellow')\n",
    "plot_sun('2026-Jun-18 12:00:00', '2026-Jun-18 14:30:00', 'cyan')\n",
    "plot_sun('2026-Jul-08 12:00:00', '2026-Jul-08 14:30:00', 'black')\n",
    "\n",
    "plt.grid()\n",
    "plt.legend()\n",
    "plt.show()"
   ]
  }
 ],
 "metadata": {
  "kernelspec": {
   "display_name": "Python 3 (ipykernel)",
   "language": "python",
   "name": "python3"
  },
  "language_info": {
   "codemirror_mode": {
    "name": "ipython",
    "version": 3
   },
   "file_extension": ".py",
   "mimetype": "text/x-python",
   "name": "python",
   "nbconvert_exporter": "python",
   "pygments_lexer": "ipython3",
   "version": "3.9.13"
  }
 },
 "nbformat": 4,
 "nbformat_minor": 5
}
