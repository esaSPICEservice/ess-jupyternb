{
 "cells": [
  {
   "cell_type": "markdown",
   "id": "37ab5528-fc5a-4b76-b566-e1c5a46f9839",
   "metadata": {},
   "source": [
    "## Blockage Masks and Field of Views in Bepicolombo\n",
    "\n",
    "This is a Python Jupyter Notebook to illustrate how to visualize the blockage mask due to the MPO structure for a sensor and how to project a field of view. "
   ]
  },
  {
   "cell_type": "markdown",
   "id": "3b387c07-fb79-4954-9560-07860dc31302",
   "metadata": {},
   "source": [
    "First thing we will do is indicate that we want the Python package matplotlib to be output in the notebook and to import the SpiceyPy package to use SPICE. We also ensure that project_path module is include, this will allow us get access to common packages and resources"
   ]
  },
  {
   "cell_type": "code",
   "execution_count": null,
   "id": "02bba993-79e7-4e86-8d56-a98ea5418a11",
   "metadata": {},
   "outputs": [],
   "source": [
    "from project_path import data_path\n",
    "\n",
    "import spiceypy as cspice\n",
    "import matplotlib.pyplot as plt\n",
    "import os\n",
    "import numpy as np\n",
    "from tqdm import tqdm"
   ]
  },
  {
   "cell_type": "markdown",
   "id": "90ff3cae-5ea3-4bd4-bed0-035c2327025f",
   "metadata": {},
   "source": [
    "We will setup the kernel set for the spice library, that will be used along the notebook. Note that if you are in **Datalabs** infrastructure and the SPICE volume is mounted, the latest kernel repositories are available. Additionally the *ess.datalabs* package contains many helpers and shortcuts."
   ]
  },
  {
   "cell_type": "code",
   "execution_count": null,
   "id": "25fdde38-5dc2-4415-8fd1-a1a13ffc64df",
   "metadata": {},
   "outputs": [],
   "source": [
    "from ess.datalabs import get_local_metakernel, is_spice_volume_mounted\n",
    "\n",
    "cspice.kclear()\n",
    "if is_spice_volume_mounted():\n",
    "    cspice.furnsh(get_local_metakernel('BEPICOLOMBO', 'bc_plan.tm'))\n",
    "else:\n",
    "    cspice.furnsh('/Users/randres/git/spice/bepicolombo/kernels/mk/bc_plan.tm')"
   ]
  },
  {
   "cell_type": "markdown",
   "id": "95c79f61-365d-4bc0-91a1-9610a6955e4c",
   "metadata": {},
   "source": [
    "### FOV projection\n",
    "\n",
    "Some auxiliary function definitions:\n",
    "* get_coords \n",
    "* ellipse3d\n",
    "* circle3d"
   ]
  },
  {
   "cell_type": "code",
   "execution_count": null,
   "id": "db39914e-e6d5-4f5f-8a72-95bac9410ae1",
   "metadata": {},
   "outputs": [],
   "source": [
    "def get_coords(vector, method='reclat', body='MERCURY'):\n",
    "    \"\"\"\n",
    "    :param vector: vector position\n",
    "    :param method: SPICE method (reclat, recsph, recpgr)\n",
    "    :param body: Name of the body to be used in case of planetographic coordinates computation\n",
    "    :returns a vector [lon,lat,distance] or associated (values in degrees)\n",
    "    \"\"\"\n",
    "    if method == 'reclat':\n",
    "        distance, lon, lat = cspice.reclat(vector)\n",
    "        out = [lon*180/np.pi, lat*180/np.pi, distance]\n",
    "    elif method == 'recsph':\n",
    "        distance, colat, lon = cspice.recsph(vector)\n",
    "        out = [lon*180/np.pi, 90-colat*180/np.pi, distance]\n",
    "    elif method == 'recpgr':\n",
    "        radii = cspice.bodvrd(body, 'RADII', 3)\n",
    "        f = (radii[0]-radii[3]) / radii[0]\n",
    "        lon, lat, distance = cspice.recpgr(body, vector, radii[0], f)\n",
    "        out = [lon*180/np.pi, lat*180/np.pi, distance]\n",
    "    return out\n",
    "\n",
    "\n",
    "def ellipse3d(bs, bd, npts=100):\n",
    "    \"\"\"\n",
    "    Compute the ellipse points of a given SPICE ellipse (made of a center and 2 generating vectors)\n",
    "\n",
    "    vec = center + cos(theta) * vector1 + sin(theta) * vector2\n",
    "\n",
    "    :param bs: Boresight position (from SPICE)\n",
    "    :param bd: Bound vectors position (from SPICE)\n",
    "    :return: X, Y, Z coordinates of the ellipse points in the frame\n",
    "    \"\"\"\n",
    "    theta = np.linspace(-np.pi, np.pi, npts)\n",
    "    c = bs  # boresight\n",
    "    anga = cspice.vsep(bs, bd[0])\n",
    "    angb = cspice.vsep(bs, bd[1])\n",
    "    v1mag = np.linalg.norm(bs) * np.tan(anga)  # boresight - bound[0] = semi-major axis\n",
    "    v2mag = np.linalg.norm(bs) * np.tan(angb)  # boresight - bound[1] = semi-minor axis\n",
    "    v1 = bd[0] - np.dot(bd[0], c)/np.dot(c, c) * c\n",
    "    v2 = bd[1] - np.dot(bd[1], c)/np.dot(c, c) * c\n",
    "    v1 = v1/np.linalg.norm(v1) * v1mag\n",
    "    v2 = v2/np.linalg.norm(v2) * v2mag\n",
    "    x = []\n",
    "    y = []\n",
    "    z = []\n",
    "    for t in theta:\n",
    "        el = c + np.cos(t) * v1 + np.sin(t) * v2\n",
    "        x.append(el[0])\n",
    "        y.append(el[1])\n",
    "        z.append(el[2])\n",
    "    return x, y, z\n",
    "\n",
    "\n",
    "def circle3d(bs, bd, npts=100):\n",
    "    \"\"\"\n",
    "    Compute the points of a given SPICE circle (made of a center and a generating vector)\n",
    "\n",
    "    :param bs: Boresight position (from SPICE)\n",
    "    :param bd: Bound vectors position (from SPICE)\n",
    "    :return: X, Y, Z coordinates of the circle points in the frame\n",
    "    \"\"\"\n",
    "    theta = np.linspace(-np.pi, np.pi, npts)\n",
    "    x = []\n",
    "    y = []\n",
    "    z = []\n",
    "    for t in theta:\n",
    "        rot = cspice.axisar(bs, t)\n",
    "        el = cspice.mxv(rot, bd[0])\n",
    "        x.append(el[0])\n",
    "        y.append(el[1])\n",
    "        z.append(el[2])\n",
    "    \n",
    "    return x, y, z"
   ]
  },
  {
   "cell_type": "markdown",
   "id": "b27da849-1ffe-46e3-b79f-0eb4a135449b",
   "metadata": {},
   "source": [
    "The following function generates a matplotlib scatter plot that shows the projection of the ellipsoidal field of view "
   ]
  },
  {
   "cell_type": "code",
   "execution_count": null,
   "id": "7e674d73-2dc7-4bbf-8672-b1002062c00a",
   "metadata": {},
   "outputs": [],
   "source": [
    "def plot_fov(detector, color, label, et, base_frame='MPO_SIXS_SU', proj_3d=False):\n",
    "    \"\"\"_summary_\n",
    "\n",
    "    Args:\n",
    "        detector (str): Detector name\n",
    "        color (str): color used in the plot\n",
    "        label (str): _description_\n",
    "        et (float): ephemeris time\n",
    "        base_frame (str, optional): frame name of the structure base of the sensor. \n",
    "        Defaults to 'MPO_SIXS_SU'.\n",
    "    \"\"\"    \n",
    "    camera_id = cspice.bodn2c(detector)\n",
    "    (shape, frame, bsight, vectors, bounds) = cspice.getfov(camera_id, 100)\n",
    "    rot = cspice.pxform(frame, base_frame, et)\n",
    "\n",
    "    if shape in ['ELLIPSE']:\n",
    "        x, y, z = ellipse3d(bsight, bounds)\n",
    "        coords = [[x[j], y[j], z[j]] for j in range(len(x))]\n",
    "    elif  shape in ['CIRCLE']:\n",
    "        x, y, z = circle3d(bsight, bounds)\n",
    "        coords = [[x[j], y[j], z[j]] for j in range(len(x))]\n",
    "    elif shape in ['RECTANGLE', 'POLYGON']:\n",
    "        coords = bounds\n",
    "    else:\n",
    "        raise RuntimeError(f'{shape} not supported')\n",
    "        \n",
    "    coords.append(bsight)\n",
    "    coords = np.asarray(coords)\n",
    "    coords = [cspice.mxv(rot, el) for el in coords]\n",
    "    \n",
    "    if proj_3d:\n",
    "        coords = np.array(coords)\n",
    "        plt.scatter(coords[:,0],coords[:,1],coords[:,2], color=color, label=label) \n",
    "        return\n",
    "        \n",
    "    fov_az = []\n",
    "    fov_el = []\n",
    "    for fov in coords:\n",
    "        tmp = get_coords(fov, method='reclat')\n",
    "        fov_az.append(tmp[0])\n",
    "        fov_el.append(tmp[1])\n",
    "\n",
    "    inds = np.array(fov_az).argsort()\n",
    "    fov_az = np.array(fov_az)[inds].tolist()\n",
    "    fov_el = np.array(fov_el)[inds].tolist()\n",
    "\n",
    "    plt.scatter(fov_az, fov_el, color=color, label=label, alpha=0.8)\n",
    "\n",
    "    return\n"
   ]
  },
  {
   "cell_type": "markdown",
   "id": "67a6f793-d2ff-4ae4-919d-6043fa12484a",
   "metadata": {},
   "source": [
    "As a practical sample, we will plot the SIXS-X FOVs. The projection is time dependant in the case of an articulated FOV, so we pass an ephemeris time to set it up."
   ]
  },
  {
   "cell_type": "code",
   "execution_count": null,
   "id": "3eca39e3-b92c-47a0-9787-c8f38c8c8107",
   "metadata": {},
   "outputs": [],
   "source": [
    "et = cspice.utc2et('2021-06-14T00:00:15.656')\n",
    "plot_fov(detector = 'MPO_SIXS-X-1', color = 'orange', label='X-1', et=et)\n",
    "plot_fov(detector = 'MPO_SIXS-X-2', color = 'green', label='X-2', et=et)\n",
    "plot_fov(detector = 'MPO_SIXS-X-3', color = 'blue', label='X-3', et=et)\n",
    "plt.suptitle('MPO SIXS-X FOV projection')\n",
    "plt.xlim([-180, 180])\n",
    "plt.ylim([-90, 90])\n",
    "plt.xlabel('Az [deg]')\n",
    "plt.ylabel('El [deg]')\n",
    "plt.grid()\n",
    "plt.legend()\n",
    "plt.show()"
   ]
  },
  {
   "cell_type": "markdown",
   "id": "d1cb6b6a-1a01-4bc7-8a12-8c4fde9875e9",
   "metadata": {},
   "source": [
    "### Mask blockage calculation\n",
    "The next function uses raytracing checks on the dsk storing the MPO 3D model to obtain the blockage mask from sensor position.\n"
   ]
  },
  {
   "cell_type": "code",
   "execution_count": null,
   "id": "21de2600-b199-4c01-a3f1-4d9fc6f1cdbb",
   "metadata": {},
   "outputs": [],
   "source": [
    "def mask_blockage(sensor, color, et, spacecraft='MPO_SPACECRAFT', dsk_structures=[-121000], ang_prec=0.5):\n",
    "    el_angles = np.arange(-90, 91, ang_prec)\n",
    "    az_angles = np.arange(-180, 181, ang_prec)\n",
    "    output = []\n",
    "    output_b = []\n",
    "    for el in tqdm(el_angles):\n",
    "        for az in az_angles:\n",
    "            r = cspice.spkpos(sensor, et, spacecraft, 'NONE', spacecraft)[0]\n",
    "            d = cspice.azlrec(1, np.deg2rad(az), np.deg2rad(el), True, True)\n",
    "\n",
    "            xarray, flag = cspice.dskxv(False, spacecraft, dsk_structures, et, spacecraft,\n",
    "                             [r], [d])\n",
    "            if flag == True:\n",
    "                blocked = 1\n",
    "                output_b.append([blocked, el, az, et])\n",
    "            else:\n",
    "                blocked = 0\n",
    "            output.append([blocked, el, az, et])\n",
    "    output_b = np.asarray(output_b)\n",
    "    plt.scatter(-output_b[:, 2], -output_b[:, 1], color=color, alpha=0.2, edgecolor='none')\n",
    "    return"
   ]
  },
  {
   "cell_type": "markdown",
   "id": "5f45d091-d880-4809-bdf5-91a1367e2639",
   "metadata": {},
   "source": [
    "In the next sample, the fov and mask blockage for SIXS-X-1"
   ]
  },
  {
   "cell_type": "code",
   "execution_count": null,
   "id": "17762bc7-5c13-4d09-bce6-5616ec141f92",
   "metadata": {},
   "outputs": [],
   "source": [
    "et = cspice.utc2et('2021-06-14T00:00:15.656')\n",
    "mask_blockage('MPO_SIXS-X-1', 'darkorange', et)\n",
    "plot_fov(detector = 'MPO_SIXS-X-1', color = 'orange', label='X-1', et=et)\n",
    "plt.suptitle('MPO SIXS-X-1 FOV projection and blockage')\n",
    "plt.xlim([-180, 180])\n",
    "plt.ylim([-90, 90])\n",
    "plt.xlabel('Az [deg]')\n",
    "plt.ylabel('El [deg]')\n",
    "plt.grid()\n",
    "plt.legend()\n",
    "plt.show()"
   ]
  },
  {
   "cell_type": "code",
   "execution_count": null,
   "id": "164ea4bb-7d9f-4d10-9505-ee3f1633c11d",
   "metadata": {},
   "outputs": [],
   "source": [
    "et = cspice.utc2et('2021-06-14T00:00:15.656')\n",
    "\n",
    "plot_fov(detector = 'MPO_SIXS-X-1', color = 'red', label='X-1', et=et)\n",
    "plot_fov(detector = 'MPO_SIXS-X-2', color = 'salmon', label='X-2', et=et)\n",
    "plot_fov(detector = 'MPO_SIXS-X-3', color = 'tomato', label='X-3', et=et)\n",
    "\n",
    "plot_fov(detector = 'MPO_SIXS-P-0', color = 'green', label='P-0', et=et)\n",
    "plot_fov(detector = 'MPO_SIXS-P-1', color = 'olive', label='P-1', et=et)\n",
    "plot_fov(detector = 'MPO_SIXS-P-2', color = 'lime', label='P-2', et=et)\n",
    "plot_fov(detector = 'MPO_SIXS-P-3', color = 'forestgreen', label='P-3', et=et)\n",
    "plot_fov(detector = 'MPO_SIXS-P-4', color = 'lightgreen', label='P-4', et=et)\n",
    "\n",
    "\n",
    "plt.suptitle('MPO SIXS-P FOV projection and blockage')\n",
    "plt.xlim([-180, 180])\n",
    "plt.ylim([-90, 90])\n",
    "plt.xlabel('Az [deg]')\n",
    "plt.ylabel('El [deg]')\n",
    "plt.grid()\n",
    "plt.legend()\n",
    "plt.show()"
   ]
  },
  {
   "cell_type": "markdown",
   "id": "db203c5a-1b12-4fa1-ab0a-068ee81ae97e",
   "metadata": {},
   "source": [
    "For *testing and checking purposes*, we can generate a 3D view of the FOVs"
   ]
  },
  {
   "cell_type": "code",
   "execution_count": null,
   "id": "89bfdb61-15dd-48fa-8e4f-f00560f5490c",
   "metadata": {},
   "outputs": [],
   "source": [
    "\n",
    "fig = plt.figure()\n",
    "ax = fig.add_subplot(projection='3d')\n",
    "plot_fov(detector = 'MPO_SIXS-X-1', color = 'red', label='X-1', et=et, proj_3d=True)\n",
    "plot_fov(detector = 'MPO_SIXS-X-2', color = 'salmon', label='X-2', et=et, proj_3d=True)\n",
    "plot_fov(detector = 'MPO_SIXS-X-3', color = 'tomato', label='X-3', et=et, proj_3d=True)\n",
    "plot_fov(detector = 'MPO_SIXS-P-0', color = 'green', label='P-0', et=et, proj_3d=True)\n",
    "plot_fov(detector = 'MPO_SIXS-P-1', color = 'olive', label='P-1', et=et, proj_3d=True)\n",
    "plot_fov(detector = 'MPO_SIXS-P-2', color = 'lime', label='P-2', et=et, proj_3d=True)\n",
    "plot_fov(detector = 'MPO_SIXS-P-3', color = 'forestgreen', label='P-3', et=et, proj_3d=True)\n",
    "plot_fov(detector = 'MPO_SIXS-P-4', color = 'lightgreen', label='P-4', et=et, proj_3d=True)\n",
    "plt.show()\n"
   ]
  },
  {
   "cell_type": "markdown",
   "id": "94ddaeec-173f-4626-8772-5e1ed984b60f",
   "metadata": {},
   "source": [
    "Using the proper **base_frame**, the raw SPICE shapes can be displayed and compared"
   ]
  },
  {
   "cell_type": "code",
   "execution_count": null,
   "id": "f87ce02a-4050-497f-9db3-7988c11f7072",
   "metadata": {},
   "outputs": [],
   "source": [
    "fig = plt.figure()\n",
    "ax = fig.add_subplot(projection='3d')\n",
    "plot_fov(detector = 'MPO_SIXS-X-1', color = 'red', label='X-1', et=et, proj_3d=True, base_frame='MPO_SIXS-X-1')\n",
    "plot_fov(detector = 'MPO_SIXS-P-1', color = 'blue', label='P-1', et=et, proj_3d=True, base_frame='MPO_SIXS-P-1')\n"
   ]
  },
  {
   "cell_type": "code",
   "execution_count": null,
   "id": "2ff9dcae-237a-4462-a96a-88ee7dda1235",
   "metadata": {},
   "outputs": [],
   "source": []
  }
 ],
 "metadata": {
  "kernelspec": {
   "display_name": "Python 3 (ipykernel)",
   "language": "python",
   "name": "python3"
  },
  "language_info": {
   "codemirror_mode": {
    "name": "ipython",
    "version": 3
   },
   "file_extension": ".py",
   "mimetype": "text/x-python",
   "name": "python",
   "nbconvert_exporter": "python",
   "pygments_lexer": "ipython3",
   "version": "3.9.13"
  }
 },
 "nbformat": 4,
 "nbformat_minor": 5
}
